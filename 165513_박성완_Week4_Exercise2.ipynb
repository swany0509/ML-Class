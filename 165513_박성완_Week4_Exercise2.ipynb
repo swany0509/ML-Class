{
 "cells": [
  {
   "cell_type": "code",
   "execution_count": 1,
   "metadata": {},
   "outputs": [],
   "source": [
    "#주로 자주 import하는 전처리기\n",
    "#from preamble import *\n",
    "import pandas as pd\n",
    "import numpy as np\n",
    "import matplotlib\n",
    "import matplotlib.pyplot as plt\n",
    "import mglearn\n",
    "from sklearn.model_selection import train_test_split\n",
    "%matplotlib inline\n",
    "\n",
    "#한글 출력\n",
    "from matplotlib import font_manager, rc\n",
    "font_name = font_manager.FontProperties(fname=\"C:/Users/swany/malgun.ttf\").get_name()\n",
    "rc('font',family=font_name)"
   ]
  },
  {
   "cell_type": "code",
   "execution_count": 2,
   "metadata": {},
   "outputs": [],
   "source": [
    "#랜덤포레스트\n",
    "#bagging과 boosting\n",
    "#bagging은 boostrap aggregating의 준말, 여러 개의 bootstrap자료를 생성하고 결합하여 최종예측모형을 산출한다.\n",
    "#boosting은 잘못 분류된 개체들에 집중하여 새료운 분류 규칙을 수립한다.\n",
    "#랜덤 포레스트는 과대적합을 피하기 위해 여러 결정트리를 결합하고,\n",
    "#서로 다른 방향으로 과대적합한 트리 결과를 평균하여 과대적합을 줄인다."
   ]
  },
  {
   "cell_type": "code",
   "execution_count": 5,
   "metadata": {},
   "outputs": [
    {
     "data": {
      "text/plain": [
       "RandomForestClassifier(n_estimators=5, random_state=2)"
      ]
     },
     "execution_count": 5,
     "metadata": {},
     "output_type": "execute_result"
    }
   ],
   "source": [
    "from sklearn.ensemble import RandomForestClassifier\n",
    "from sklearn.datasets import make_moons\n",
    "\n",
    "X,y=make_moons(n_samples=100, noise=0.25, random_state=3)\n",
    "X_train,X_test,y_train,y_test = train_test_split(X,y,stratify=y,random_state=42)\n",
    "\n",
    "forest=RandomForestClassifier(n_estimators=5, random_state=2)\n",
    "forest.fit(X_train,y_train)"
   ]
  },
  {
   "cell_type": "code",
   "execution_count": 6,
   "metadata": {},
   "outputs": [],
   "source": [
    "#Random forest vs Decision tree\n",
    "#절대적으로 유리한 모형은 없다. 데이터, 상황에 따라 적합한 모델을 사용해야 한다."
   ]
  },
  {
   "cell_type": "code",
   "execution_count": 10,
   "metadata": {},
   "outputs": [
    {
     "name": "stdout",
     "output_type": "stream",
     "text": [
      "테스트 세트 정확도: 0.920\n",
      "\n",
      "테스트 세트 정확도 CV=5: 0.860\n",
      "\n",
      "테스트 세트 정확도 CV=10: 0.840\n",
      "\n"
     ]
    }
   ],
   "source": [
    "#Random forest\n",
    "from sklearn.model_selection import cross_val_score\n",
    "forest=RandomForestClassifier(n_estimators=5,random_state=2)\n",
    "forest.fit(X_train,y_train)\n",
    "print(\"테스트 세트 정확도: {:.3f}\\n\".format(forest.score(X_test,y_test)))\n",
    "\n",
    "cvscores = cross_val_score(forest,X,y,cv=5)\n",
    "print(\"테스트 세트 정확도 CV=5: {:.3f}\\n\".format(cvscores.mean()))\n",
    "      \n",
    "cvscores = cross_val_score(forest,X,y,cv=10)\n",
    "print(\"테스트 세트 정확도 CV=10: {:.3f}\\n\".format(cvscores.mean()))"
   ]
  },
  {
   "cell_type": "code",
   "execution_count": 11,
   "metadata": {},
   "outputs": [
    {
     "name": "stdout",
     "output_type": "stream",
     "text": [
      "테스트 세트 정확도: 0.880\n",
      "\n",
      "테스트 세트 정확도 CV=5: 0.860\n",
      "\n",
      "테스트 세트 정확도 CV=10: 0.850\n",
      "\n"
     ]
    }
   ],
   "source": [
    "#Decision Tree\n",
    "from sklearn.model_selection import cross_val_score\n",
    "from sklearn.tree import DecisionTreeClassifier\n",
    "\n",
    "X,y=make_moons(n_samples=100, noise=0.25, random_state=3)\n",
    "X_train,X_test,y_train,y_test = train_test_split(X,y,stratify=y,random_state=42)\n",
    "\n",
    "dt=DecisionTreeClassifier(max_depth=None, min_samples_split=2,random_state=0)\n",
    "dt.fit(X_train,y_train)\n",
    "print(\"테스트 세트 정확도: {:.3f}\\n\".format(dt.score(X_test,y_test)))\n",
    "\n",
    "cvscores = cross_val_score(dt,X,y,cv=5)\n",
    "print(\"테스트 세트 정확도 CV=5: {:.3f}\\n\".format(cvscores.mean()))\n",
    "      \n",
    "cvscores = cross_val_score(dt,X,y,cv=10)\n",
    "print(\"테스트 세트 정확도 CV=10: {:.3f}\\n\".format(cvscores.mean()))"
   ]
  },
  {
   "cell_type": "code",
   "execution_count": 14,
   "metadata": {},
   "outputs": [
    {
     "name": "stdout",
     "output_type": "stream",
     "text": [
      "훈련 세트의 정확도: 1.000\n",
      "테스트 세트의 정확도: 0.972\n",
      "테스트 세트 정확도 CV=10: 0.910\n",
      "\n",
      "[1.  1.  0.8 0.9 1.  1.  0.7 1.  0.9 0.8]\n"
     ]
    }
   ],
   "source": [
    "#암 데이터 활용\n",
    "from sklearn.datasets import load_breast_cancer\n",
    "cancer = load_breast_cancer()\n",
    "X_train,X_test,y_train,y_test = train_test_split(cancer.data,cancer.target,random_state=0)\n",
    "forest=RandomForestClassifier(n_estimators=100,random_state=0)\n",
    "forest.fit(X_train,y_train)\n",
    "\n",
    "print(\"훈련 세트의 정확도: {:.3f}\".format(forest.score(X_train,y_train)))\n",
    "print(\"테스트 세트의 정확도: {:.3f}\".format(forest.score(X_test,y_test)))\n",
    "\n",
    "cvscores = cross_val_score(forest,X,y,cv=10)\n",
    "print(\"테스트 세트 정확도 CV=10: {:.3f}\\n\".format(cvscores.mean()))\n",
    "print(cvscores)"
   ]
  },
  {
   "cell_type": "code",
   "execution_count": 16,
   "metadata": {},
   "outputs": [
    {
     "data": {
      "image/png": "[encoded data removed]",
      "text/plain": [
       "<Figure size 432x288 with 1 Axes>"
      ]
     },
     "metadata": {
      "needs_background": "light"
     },
     "output_type": "display_data"
    }
   ],
   "source": [
    "def plot_feature_importances_cancer(model):\n",
    "    n_features = cancer.data.shape[1]\n",
    "    plt.barh(range(n_features),model.feature_importances_,align='center')\n",
    "    plt.yticks(np.arange(n_features),cancer.feature_names)\n",
    "    plt.xlabel(\"특성 중요도\")\n",
    "    plt.ylabel(\"특성\")\n",
    "    plt.ylim(-1,n_features)\n",
    "    \n",
    "plot_feature_importances_cancer(forest)"
   ]
  },
  {
   "cell_type": "code",
   "execution_count": null,
   "metadata": {},
   "outputs": [],
   "source": []
  },
  {
   "cell_type": "code",
   "execution_count": null,
   "metadata": {},
   "outputs": [],
   "source": []
  },
  {
   "cell_type": "code",
   "execution_count": null,
   "metadata": {},
   "outputs": [],
   "source": []
  }
 ],
 "metadata": {
  "kernelspec": {
   "display_name": "Python 3",
   "language": "python",
   "name": "python3"
  },
  "language_info": {
   "codemirror_mode": {
    "name": "ipython",
    "version": 3
   },
   "file_extension": ".py",
   "mimetype": "text/x-python",
   "name": "python",
   "nbconvert_exporter": "python",
   "pygments_lexer": "ipython3",
   "version": "3.8.5"
  }
 },
 "nbformat": 4,
 "nbformat_minor": 4
}
